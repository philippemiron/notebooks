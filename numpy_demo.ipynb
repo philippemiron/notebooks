{
 "cells": [
  {
   "cell_type": "code",
   "execution_count": 1,
   "metadata": {},
   "outputs": [],
   "source": [
    "# you can import as anything else but standard seems to be np\n",
    "# then you have access to all the library functions by doing np.sin() for example\n",
    "import numpy as np\n",
    "import math\n",
    "\n",
    "# to plot :) \n",
    "import matplotlib.pyplot as plt"
   ]
  },
  {
   "cell_type": "code",
   "execution_count": 2,
   "metadata": {},
   "outputs": [
    {
     "name": "stdout",
     "output_type": "stream",
     "text": [
      "1.4142135623730951\n"
     ]
    }
   ],
   "source": [
    "# sqrt()\n",
    "# from the math library you can only do one element at a time\n",
    "a = math.sqrt(2.)\n",
    "print(a)\n"
   ]
  },
  {
   "cell_type": "code",
   "execution_count": 3,
   "metadata": {},
   "outputs": [
    {
     "name": "stdout",
     "output_type": "stream",
     "text": [
      "[1.4142135623730951, 1.7320508075688772, 2.0, 2.23606797749979]\n",
      "[1.4142135623730951, 1.7320508075688772, 2.0, 2.23606797749979]\n"
     ]
    }
   ],
   "source": [
    "# if you have a list\n",
    "num = [2, 3, 4, 5]\n",
    "\n",
    "# with the math library you would have to loop it\n",
    "sqrt_num = []\n",
    "for i in range(0, len(num)):\n",
    "  sqrt_num.append(math.sqrt(num[i]))\n",
    "print(sqrt_num)\n",
    "\n",
    "# there is also other way do to the same loop\n",
    "sqrt_num = []\n",
    "for i in num:\n",
    "  sqrt_num.append(math.sqrt(i))\n",
    "print(sqrt_num)"
   ]
  },
  {
   "cell_type": "code",
   "execution_count": 4,
   "metadata": {},
   "outputs": [
    {
     "name": "stdout",
     "output_type": "stream",
     "text": [
      "[1.41421356 1.73205081 2.         2.23606798]\n",
      "[ 4  9 16 25]\n",
      "[ 4  9 16 25]\n"
     ]
    }
   ],
   "source": [
    "# using numpy you have access to vector operation\n",
    "# similar to what you have in matlab and you avoid\n",
    "# having to loop the list (also much faster)\n",
    "\n",
    "# only thing the num list have to be define as a numpy array!\n",
    "num = np.array([2, 3, 4, 5])\n",
    "\n",
    "# all the operations perform with numpy array will return numpy array\n",
    "sqrt_num = np.sqrt(num)\n",
    "print(sqrt_num)\n",
    "\n",
    "p2 = num**2\n",
    "print(p2)\n",
    "\n",
    "pn = np.power(num, 2)\n",
    "print(pn)"
   ]
  },
  {
   "cell_type": "code",
   "execution_count": 5,
   "metadata": {},
   "outputs": [
    {
     "name": "stdout",
     "output_type": "stream",
     "text": [
      "[[ 5 12]\n",
      " [15 24]]\n",
      "[17 39]\n",
      "[17 39]\n"
     ]
    }
   ],
   "source": [
    "# you have access to most of the matlab operations\n",
    "# but there are some differences\n",
    "# By default, it does element-wise multiplication and not\n",
    "# matrix/vector operation as in Matlab\n",
    "\n",
    "# this will give you the multiplication of each row of a \n",
    "# by the vector b\n",
    "a = np.array([[1, 2], [3, 4]])\n",
    "b = np.array([5, 6])\n",
    "c = a * b\n",
    "print(c)\n",
    "\n",
    "# if you want to do a matrix multiplication\n",
    "# you can use np.matmul() or @\n",
    "d = np.matmul(a, b)\n",
    "print(d)\n",
    "# or simply using @\n",
    "d = a @ b\n",
    "print(d)"
   ]
  },
  {
   "cell_type": "code",
   "execution_count": 6,
   "metadata": {},
   "outputs": [
    {
     "name": "stdout",
     "output_type": "stream",
     "text": [
      "[[0.2        0.33333333]\n",
      " [0.6        0.66666667]]\n",
      "[-4.   4.5]\n"
     ]
    }
   ],
   "source": [
    "# same thing for / which will divide element-wise\n",
    "# to solve a system you can use numpy.linalg.solve() or scipy.linal.solve()\n",
    "# let's keep only the numpy package for now\n",
    "e = a / b\n",
    "print(e)\n",
    "\n",
    "f = np.linalg.solve(a, b)\n",
    "print(f)"
   ]
  },
  {
   "cell_type": "markdown",
   "metadata": {},
   "source": [
    "# There are so many functions available but here are some I used..\n",
    "\n",
    "List: https://docs.scipy.org/doc/numpy/reference/routines.html\n"
   ]
  },
  {
   "cell_type": "code",
   "execution_count": 7,
   "metadata": {},
   "outputs": [
    {
     "name": "stdout",
     "output_type": "stream",
     "text": [
      "\n",
      "mean\t\t10.561667\n",
      "std\t\t12.139502\n",
      "min\t\t1.000000\n",
      "25%\t\t1.750000\n",
      "50%\t\t5.000000\n",
      "75%\t\t14.750000\n",
      "max\t\t34.340000\n"
     ]
    }
   ],
   "source": [
    "def print_basic_stats(v):\n",
    "    \"\"\"\n",
    "    Replicate a very dumb version of panda.describe() function for a simple numpy array\n",
    "    :param v: numpy array with a signal or dataset\n",
    "    :return: print stats on the screen\n",
    "    \"\"\"\n",
    "    print('\\nmean\\t\\t%f\\nstd\\t\\t%f\\nmin\\t\\t%f\\n25%%\\t\\t%f\\n50%%\\t\\t%f\\n75%%\\t\\t%f\\nmax\\t\\t%f' % (\n",
    "        np.mean(v), np.std(v), np.min(v), np.percentile(v, 25), np.percentile(v, 50), np.percentile(v, 75), np.max(v)))\n",
    "\n",
    "a = [1, 1, 2.4, 5, 12, 23, 2, 5, 6, 1, 34, 34.34]\n",
    "print_basic_stats(a)"
   ]
  },
  {
   "cell_type": "code",
   "execution_count": 8,
   "metadata": {},
   "outputs": [
    {
     "name": "stdout",
     "output_type": "stream",
     "text": [
      "[ 1.    2.    2.4   5.    6.   12.   23.   34.   34.34]\n",
      "[1. 1. 1. 1. 1. 1. 1. 1. 1. 1.]\n",
      "[[1. 1.]\n",
      " [1. 1.]]\n",
      "[[0. 0.]\n",
      " [0. 0.]]\n"
     ]
    }
   ],
   "source": [
    "print(np.unique(a))\n",
    "print(np.ones(10))\n",
    "print(np.ones((2,2)))\n",
    "print(np.zeros((2,2)))"
   ]
  },
  {
   "cell_type": "code",
   "execution_count": 9,
   "metadata": {},
   "outputs": [
    {
     "data": {
      "text/plain": [
       "[<matplotlib.lines.Line2D at 0x7fe630ae3e10>]"
      ]
     },
     "execution_count": 9,
     "metadata": {},
     "output_type": "execute_result"
    },
    {
     "name": "stderr",
     "output_type": "stream",
     "text": [
      "/Users/pmiron/miniconda3/lib/python3.7/site-packages/matplotlib/font_manager.py:1241: UserWarning: findfont: Font family ['Helvetica'] not found. Falling back to DejaVu Sans.\n",
      "  (prop.get_family(), self.defaultFamily[fontext]))\n"
     ]
    },
    {
     "data": {
      "image/png": "[encoded data removed]",
      "text/plain": [
       "<Figure size 432x288 with 1 Axes>"
      ]
     },
     "metadata": {
      "needs_background": "light"
     },
     "output_type": "display_data"
    }
   ],
   "source": [
    "x = np.arange(0, 10, 0.01)\n",
    "# np.sin(), np.cos(),  np.deg2rad(), (np.radians()), np.rad2deg() (np.degrees()), np.pi\n",
    "# np.real(), np.imag(), np.angle(),\n",
    "y = np.sin(x) \n",
    "\n",
    "plt.plot(x, y, '.r')"
   ]
  },
  {
   "cell_type": "code",
   "execution_count": 10,
   "metadata": {},
   "outputs": [
    {
     "name": "stdout",
     "output_type": "stream",
     "text": [
      "[[1 3]\n",
      " [2 4]]\n",
      "[[1 2 3 4]]\n",
      "[[1 2 3 4]]\n",
      "[1 2]\n",
      "1\n",
      "[3 4]\n",
      "[2 4]\n"
     ]
    }
   ],
   "source": [
    "a = np.array([[1, 2], [3, 4]])\n",
    "\n",
    "# transpose\n",
    "print(a.T)\n",
    "\n",
    "# reshape\n",
    "print(a.reshape(1,4))\n",
    "print(a.reshape(1,-1)) # -1 is to the end\n",
    "\n",
    "# access element similar as in matlab but starts at 0\n",
    "print(a[0]) # first line\n",
    "print(a[0,0]) # first element\n",
    "print(a[-1]) # last line\n",
    "print(a[:,1]) # second column"
   ]
  },
  {
   "cell_type": "code",
   "execution_count": 11,
   "metadata": {},
   "outputs": [
    {
     "data": {
      "text/plain": [
       "Text(0, 0.5, 'Amplitude')"
      ]
     },
     "execution_count": 11,
     "metadata": {},
     "output_type": "execute_result"
    },
    {
     "data": {
      "image/png": "[encoded data removed]",
      "text/plain": [
       "<Figure size 600x400 with 2 Axes>"
      ]
     },
     "metadata": {
      "needs_background": "light"
     },
     "output_type": "display_data"
    }
   ],
   "source": [
    "## FFT example\n",
    "x = np.arange(0, 10, 0.01)\n",
    "y = np.sin(x) \n",
    "\n",
    "# sampling parameters\n",
    "fs = 250.0 # have to be > 2x highest frequency\n",
    "ts = 1.0/fs\n",
    "\n",
    "# signal parameters\n",
    "t = np.arange(0,1,ts)\n",
    "freq = 5\n",
    "freq2 = 100\n",
    "y = np.sin(2*np.pi*freq*t)  + np.sin(2*np.pi*freq2*t)\n",
    "\n",
    "# output frequency normalization\n",
    "n = len(y)\n",
    "T = n/fs\n",
    "frq = np.arange(n)/T\n",
    "\n",
    "Y = np.fft.fft(y)\n",
    "# keep one half of range and output\n",
    "frq = frq[0:int(n/2)] \n",
    "# and normalize fft output\n",
    "Y = Y[0:int(n/2)]/n \n",
    "\n",
    "# this is a better way to do figures\n",
    "# you keep reference to the fig and ax1, ax2\n",
    "# to be aple to modify them later on\n",
    "fig = plt.figure(dpi=100)\n",
    "ax1 = fig.add_subplot(2, 1, 1)\n",
    "\n",
    "# plot original signal\n",
    "ax1.plot(t,y)\n",
    "ax1.set_xlabel('Time')\n",
    "ax1.set_ylabel('Amplitude')\n",
    "\n",
    "# plot fft results\n",
    "ax2 = fig.add_subplot(2, 1, 2)\n",
    "ax2.plot(frq, abs(Y))\n",
    "ax2.set_xlabel('Freq (Hz)')\n",
    "ax2.set_ylabel('Amplitude')\n",
    "\n",
    "# show the figure if you are not on a notebook\n",
    "#fig.show()"
   ]
  },
  {
   "cell_type": "code",
   "execution_count": 12,
   "metadata": {},
   "outputs": [
    {
     "data": {
      "image/png": "[encoded data removed]",
      "text/plain": [
       "<Figure size 432x288 with 1 Axes>"
      ]
     },
     "metadata": {
      "needs_background": "light"
     },
     "output_type": "display_data"
    }
   ],
   "source": [
    "import numpy as np\n",
    "import matplotlib.pyplot as plt\n",
    "\n",
    "# Example data\n",
    "t = np.arange(0.0, 1.0 + 0.01, 0.01)\n",
    "s = np.cos(4 * np.pi * t) + 2\n",
    "\n",
    "#plt.rc('text', usetex=True)\n",
    "plt.plot(t, s)\n",
    "\n",
    "plt.show()"
   ]
  },
  {
   "cell_type": "code",
   "execution_count": null,
   "metadata": {},
   "outputs": [],
   "source": []
  }
 ],
 "metadata": {
  "kernelspec": {
   "display_name": "Python 3",
   "language": "python",
   "name": "python3"
  },
  "language_info": {
   "codemirror_mode": {
    "name": "ipython",
    "version": 3
   },
   "file_extension": ".py",
   "mimetype": "text/x-python",
   "name": "python",
   "nbconvert_exporter": "python",
   "pygments_lexer": "ipython3",
   "version": "3.7.3"
  }
 },
 "nbformat": 4,
 "nbformat_minor": 2
}
