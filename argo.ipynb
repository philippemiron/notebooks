{
 "cells": [
  {
   "cell_type": "markdown",
   "metadata": {},
   "source": [
    "# Exploring the argo profile location dataset\n",
    "\n",
    "This file contains the location of the argo floats profile everytime they surface\n",
    "The data is extracted from the public FTP ftp://usgodae.org/pub/outgoing/argo/"
   ]
  },
  {
   "cell_type": "code",
   "execution_count": 1,
   "metadata": {},
   "outputs": [],
   "source": [
    "import os\n",
    "import urllib.request\n",
    "import numpy as np\n",
    "import pandas as pd\n",
    "\n",
    "from matplotlib import pyplot as plt\n",
    "import matplotlib.cm as cm\n",
    "%matplotlib inline"
   ]
  },
  {
   "cell_type": "code",
   "execution_count": 2,
   "metadata": {},
   "outputs": [],
   "source": [
    "# this folder has to exist before, you can also just download the data yourself\n",
    "folder = os.path.expanduser('~/Documents/data/argo/')"
   ]
  },
  {
   "cell_type": "code",
   "execution_count": 7,
   "metadata": {
    "scrolled": true
   },
   "outputs": [
    {
     "name": "stdout",
     "output_type": "stream",
     "text": [
      "Downloading: ftp://usgodae.org/pub/outgoing/argo/ar_index_global_prof.txt\n",
      "Downloading: ftp://usgodae.org/pub/outgoing/argo/ar_index_global_traj.txt\n"
     ]
    }
   ],
   "source": [
    "# Download the dataset from the website\n",
    "# Run if needed (~200Mb)\n",
    "url = ['ftp://usgodae.org/pub/outgoing/argo/ar_index_global_prof.txt',\n",
    "       'ftp://usgodae.org/pub/outgoing/argo/ar_index_global_traj.txt'\n",
    "       ]\n",
    "\n",
    "# loop on different files to download\n",
    "for i in range(0, len(url)):\n",
    "    print('Downloading: ' + str(url[i]))\n",
    "    response = urllib.request.urlopen(url[i])\n",
    "    outfile = folder+url[i][36:]\n",
    "    \n",
    "    with open(outfile, 'wb') as outfile:\n",
    "        outfile.write(response.read())"
   ]
  },
  {
   "cell_type": "code",
   "execution_count": 8,
   "metadata": {},
   "outputs": [],
   "source": [
    "file = folder + 'ar_index_global_prof.txt'\n",
    "df = pd.read_csv(file, sep=',', parse_dates=['date'], skiprows=8)"
   ]
  },
  {
   "cell_type": "code",
   "execution_count": 9,
   "metadata": {},
   "outputs": [
    {
     "data": {
      "text/html": [
       "<div>\n",
       "<style scoped>\n",
       "    .dataframe tbody tr th:only-of-type {\n",
       "        vertical-align: middle;\n",
       "    }\n",
       "\n",
       "    .dataframe tbody tr th {\n",
       "        vertical-align: top;\n",
       "    }\n",
       "\n",
       "    .dataframe thead th {\n",
       "        text-align: right;\n",
       "    }\n",
       "</style>\n",
       "<table border=\"1\" class=\"dataframe\">\n",
       "  <thead>\n",
       "    <tr style=\"text-align: right;\">\n",
       "      <th></th>\n",
       "      <th>file</th>\n",
       "      <th>date</th>\n",
       "      <th>latitude</th>\n",
       "      <th>longitude</th>\n",
       "      <th>ocean</th>\n",
       "      <th>profiler_type</th>\n",
       "      <th>institution</th>\n",
       "      <th>date_update</th>\n",
       "    </tr>\n",
       "  </thead>\n",
       "  <tbody>\n",
       "    <tr>\n",
       "      <th>0</th>\n",
       "      <td>aoml/13857/profiles/R13857_001.nc</td>\n",
       "      <td>1997-07-29 20:03:00</td>\n",
       "      <td>0.267</td>\n",
       "      <td>-16.032</td>\n",
       "      <td>A</td>\n",
       "      <td>845</td>\n",
       "      <td>AO</td>\n",
       "      <td>20160401193107</td>\n",
       "    </tr>\n",
       "    <tr>\n",
       "      <th>1</th>\n",
       "      <td>aoml/13857/profiles/R13857_002.nc</td>\n",
       "      <td>1997-08-09 19:21:12</td>\n",
       "      <td>0.072</td>\n",
       "      <td>-17.659</td>\n",
       "      <td>A</td>\n",
       "      <td>845</td>\n",
       "      <td>AO</td>\n",
       "      <td>20160401193107</td>\n",
       "    </tr>\n",
       "    <tr>\n",
       "      <th>2</th>\n",
       "      <td>aoml/13857/profiles/R13857_003.nc</td>\n",
       "      <td>1997-08-20 18:45:45</td>\n",
       "      <td>0.543</td>\n",
       "      <td>-19.622</td>\n",
       "      <td>A</td>\n",
       "      <td>845</td>\n",
       "      <td>AO</td>\n",
       "      <td>20160401193108</td>\n",
       "    </tr>\n",
       "    <tr>\n",
       "      <th>3</th>\n",
       "      <td>aoml/13857/profiles/R13857_004.nc</td>\n",
       "      <td>1997-08-31 19:39:05</td>\n",
       "      <td>1.256</td>\n",
       "      <td>-20.521</td>\n",
       "      <td>A</td>\n",
       "      <td>845</td>\n",
       "      <td>AO</td>\n",
       "      <td>20160401193108</td>\n",
       "    </tr>\n",
       "    <tr>\n",
       "      <th>4</th>\n",
       "      <td>aoml/13857/profiles/R13857_005.nc</td>\n",
       "      <td>1997-09-11 18:58:08</td>\n",
       "      <td>0.720</td>\n",
       "      <td>-20.768</td>\n",
       "      <td>A</td>\n",
       "      <td>845</td>\n",
       "      <td>AO</td>\n",
       "      <td>20160401193109</td>\n",
       "    </tr>\n",
       "  </tbody>\n",
       "</table>\n",
       "</div>"
      ],
      "text/plain": [
       "                                file                date  latitude  longitude  \\\n",
       "0  aoml/13857/profiles/R13857_001.nc 1997-07-29 20:03:00     0.267    -16.032   \n",
       "1  aoml/13857/profiles/R13857_002.nc 1997-08-09 19:21:12     0.072    -17.659   \n",
       "2  aoml/13857/profiles/R13857_003.nc 1997-08-20 18:45:45     0.543    -19.622   \n",
       "3  aoml/13857/profiles/R13857_004.nc 1997-08-31 19:39:05     1.256    -20.521   \n",
       "4  aoml/13857/profiles/R13857_005.nc 1997-09-11 18:58:08     0.720    -20.768   \n",
       "\n",
       "  ocean  profiler_type institution     date_update  \n",
       "0     A            845          AO  20160401193107  \n",
       "1     A            845          AO  20160401193107  \n",
       "2     A            845          AO  20160401193108  \n",
       "3     A            845          AO  20160401193108  \n",
       "4     A            845          AO  20160401193109  "
      ]
     },
     "execution_count": 9,
     "metadata": {},
     "output_type": "execute_result"
    }
   ],
   "source": [
    "### Filter dataset\n",
    "\n",
    "# remove floats without lat/lon data (99999.000 and -999.000) \n",
    "non_nan = np.logical_and(df.longitude != 99999.000, df.latitude != 99999.000)\n",
    "df = df[non_nan]\n",
    "non_nan = np.logical_and(df.longitude != -999.000, df.latitude != -999.000)\n",
    "df = df[non_nan]\n",
    "\n",
    "# remove floats with no date\n",
    "df = df[df.date.notnull()]\n",
    "\n",
    "# modify longitudes > 180 to keep between [-180, +180]\n",
    "df.loc[df.longitude > 180, 'longitude'] -= 360\n",
    "df.head()"
   ]
  },
  {
   "cell_type": "code",
   "execution_count": 10,
   "metadata": {},
   "outputs": [],
   "source": [
    "# Create new variables id and datenum\n",
    "\n",
    "# From the insitution we get the name of the folder from a dictionnary\n",
    "# to extract the unique float id\n",
    "def extract_id(filename, institution):\n",
    "    '''return float id from filename and institution'''\n",
    "    inst_folder = {'AO': 'aoml/', 'BO': 'bodc/', 'IF': 'coriolis/', 'HZ':'csio/', 'CS':'csiro/', 'IN':'incois/', \n",
    "              'JA':'jma/', 'KM':'kma/', 'KO':'kordi/', 'ME':'meds/', 'NM':'nmdis/'}\n",
    "    id = np.empty_like(filename)\n",
    "    for i in range(0, len(filename)):\n",
    "        id[i] = filename[i].replace(inst_folder[institution[i]], '').split('/', 1)[0]\n",
    "    return id\n",
    "\n",
    "from datetime import datetime, timedelta\n",
    "def convert_to_datenum_matlab(date):\n",
    "    datenum = np.zeros(date.shape)\n",
    "    for i in range(0, len(date)):\n",
    "        # convert Panda Timestamp to datetime object\n",
    "        d = datetime.utcfromtimestamp(date[i].tolist()/1e9)\n",
    "        ord = d.toordinal()\n",
    "        mdn = d + timedelta(days = 366)\n",
    "        frac = (d - datetime(d.year,d.month,d.day,0,0,0)).seconds / (24.0 * 60.0 * 60.0)\n",
    "        datenum[i] = mdn.toordinal() + frac\n",
    "    return datenum\n",
    "\n",
    "\n",
    "df['id'] = extract_id(df['file'].values, df['institution'].values)\n",
    "df['datenum'] = convert_to_datenum_matlab(df['date'].values)"
   ]
  },
  {
   "cell_type": "code",
   "execution_count": 11,
   "metadata": {},
   "outputs": [
    {
     "data": {
      "text/html": [
       "<div>\n",
       "<style scoped>\n",
       "    .dataframe tbody tr th:only-of-type {\n",
       "        vertical-align: middle;\n",
       "    }\n",
       "\n",
       "    .dataframe tbody tr th {\n",
       "        vertical-align: top;\n",
       "    }\n",
       "\n",
       "    .dataframe thead th {\n",
       "        text-align: right;\n",
       "    }\n",
       "</style>\n",
       "<table border=\"1\" class=\"dataframe\">\n",
       "  <thead>\n",
       "    <tr style=\"text-align: right;\">\n",
       "      <th></th>\n",
       "      <th>id</th>\n",
       "      <th>datenum</th>\n",
       "      <th>latitude</th>\n",
       "      <th>longitude</th>\n",
       "    </tr>\n",
       "  </thead>\n",
       "  <tbody>\n",
       "    <tr>\n",
       "      <th>0</th>\n",
       "      <td>13857</td>\n",
       "      <td>729600.835417</td>\n",
       "      <td>0.267</td>\n",
       "      <td>-16.032</td>\n",
       "    </tr>\n",
       "    <tr>\n",
       "      <th>1</th>\n",
       "      <td>13857</td>\n",
       "      <td>729611.806389</td>\n",
       "      <td>0.072</td>\n",
       "      <td>-17.659</td>\n",
       "    </tr>\n",
       "    <tr>\n",
       "      <th>2</th>\n",
       "      <td>13857</td>\n",
       "      <td>729622.781771</td>\n",
       "      <td>0.543</td>\n",
       "      <td>-19.622</td>\n",
       "    </tr>\n",
       "    <tr>\n",
       "      <th>3</th>\n",
       "      <td>13857</td>\n",
       "      <td>729633.818808</td>\n",
       "      <td>1.256</td>\n",
       "      <td>-20.521</td>\n",
       "    </tr>\n",
       "    <tr>\n",
       "      <th>4</th>\n",
       "      <td>13857</td>\n",
       "      <td>729644.790370</td>\n",
       "      <td>0.720</td>\n",
       "      <td>-20.768</td>\n",
       "    </tr>\n",
       "  </tbody>\n",
       "</table>\n",
       "</div>"
      ],
      "text/plain": [
       "      id        datenum  latitude  longitude\n",
       "0  13857  729600.835417     0.267    -16.032\n",
       "1  13857  729611.806389     0.072    -17.659\n",
       "2  13857  729622.781771     0.543    -19.622\n",
       "3  13857  729633.818808     1.256    -20.521\n",
       "4  13857  729644.790370     0.720    -20.768"
      ]
     },
     "execution_count": 11,
     "metadata": {},
     "output_type": "execute_result"
    }
   ],
   "source": [
    "output_df = df[['id', 'datenum', 'latitude', 'longitude']].copy()\n",
    "output_df.to_csv(folder + 'path.csv', sep=',', index=False)\n",
    "output_df.head()"
   ]
  },
  {
   "cell_type": "code",
   "execution_count": null,
   "metadata": {},
   "outputs": [],
   "source": []
  },
  {
   "cell_type": "code",
   "execution_count": 8,
   "metadata": {
    "scrolled": false
   },
   "outputs": [
    {
     "data": {
      "text/plain": [
       "<matplotlib.axes._subplots.AxesSubplot at 0x10f243908>"
      ]
     },
     "execution_count": 8,
     "metadata": {},
     "output_type": "execute_result"
    },
    {
     "data": {
      "image/png": "[encoded data removed]",
      "text/plain": [
       "<Figure size 864x720 with 1 Axes>"
      ]
     },
     "metadata": {},
     "output_type": "display_data"
    }
   ],
   "source": [
    "aoml = df.institution == 'AO'\n",
    "floats = df.loc[aoml]\n",
    "\n",
    "fig, ax = plt.subplots(figsize=(12,10))\n",
    "df.plot(kind='scatter', x='longitude', y='latitude', ax=ax)"
   ]
  },
  {
   "cell_type": "code",
   "execution_count": null,
   "metadata": {},
   "outputs": [],
   "source": []
  }
 ],
 "metadata": {
  "kernelspec": {
   "display_name": "Python 3",
   "language": "python",
   "name": "python3"
  },
  "language_info": {
   "codemirror_mode": {
    "name": "ipython",
    "version": 3
   },
   "file_extension": ".py",
   "mimetype": "text/x-python",
   "name": "python",
   "nbconvert_exporter": "python",
   "pygments_lexer": "ipython3",
   "version": "3.6.8"
  }
 },
 "nbformat": 4,
 "nbformat_minor": 2
}
